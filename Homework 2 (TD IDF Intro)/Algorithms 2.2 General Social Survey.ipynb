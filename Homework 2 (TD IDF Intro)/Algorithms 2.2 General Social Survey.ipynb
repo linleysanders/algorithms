{
 "cells": [
  {
   "cell_type": "markdown",
   "metadata": {},
   "source": [
    "## Week 2-2 - Visualizing General Social Survey data\n",
    "\n",
    "Your mission is to analyze a data set of social attitudes by turning it into vectors, then visualizing the result.\n",
    "\n",
    "### 1. Choose a topic and get your data\n",
    "\n",
    "We're going to be working with data from the General Social Survey, which asks Americans thousands of questions ever year, over decades. This is an enormous data set and there have been very many stories written from its data. The first thing you need to do is decide which questions and which years you are going to try to analyze.\n",
    "\n",
    "Use their [data explorer](https://gssdataexplorer.norc.org/) to see what's available, and ultimately download an Excel file with the data. \n",
    "\n",
    "- Click the `Search Varibles` button.\n",
    "- You will need at least a dozen or two related variables. Try selecting some using their `Filter by Module / Subject` interface.\n",
    "- When you've made your selection, click the `+ All` button to add all listed variables, then choose `Extract Data` under the `Actions` menu.\n",
    "- Then you have a multi-step process. Step 1 is just naming your extract\n",
    "- Step 2: select variables *again!* Click `Add All` in the upper right of the \"Variable Cart\" in the \"Choose Variables\" step.\n",
    "- Step 3: Skip it. You could use this to filter the data in various ways. \n",
    "- Step 4: Click `Select certain years` to pick one year of data, then check `Excel Workbook (data + metadata)` as the output format.\n",
    "- Click `Create Extract` and wait a minute or two on the \"Extracts\" page until the spinner stops and turns into a download link.\n",
    "\n",
    "You'll end up with an compressed file in tar.gz format, which you should be able to decompressed by double-clicking on it. Inside is an Excel file. Open it in Excel (or your favorite spreadsheet program) and resave it as a CSV.\n",
    "\n",
    "\n",
    "\n"
   ]
  },
  {
   "cell_type": "code",
   "execution_count": 1,
   "metadata": {},
   "outputs": [
    {
     "name": "stderr",
     "output_type": "stream",
     "text": [
      "/Users/linleysanders/.pyenv/versions/3.6.4/lib/python3.6/site-packages/matplotlib/__init__.py:1067: UserWarning: Duplicate key in file \"/Users/linleysanders/.matplotlib/matplotlibrc\", line #3\n",
      "  (fname, cnt))\n",
      "/Users/linleysanders/.pyenv/versions/3.6.4/lib/python3.6/site-packages/matplotlib/__init__.py:1067: UserWarning: Duplicate key in file \"/Users/linleysanders/.matplotlib/matplotlibrc\", line #4\n",
      "  (fname, cnt))\n"
     ]
    }
   ],
   "source": [
    "import pandas as pd\n",
    "import numpy as np\n",
    "from sklearn.decomposition import PCA\n",
    "import matplotlib.pyplot as plt\n",
    "import math"
   ]
  },
  {
   "cell_type": "code",
   "execution_count": 2,
   "metadata": {},
   "outputs": [
    {
     "data": {
      "text/html": [
       "<div>\n",
       "<style scoped>\n",
       "    .dataframe tbody tr th:only-of-type {\n",
       "        vertical-align: middle;\n",
       "    }\n",
       "\n",
       "    .dataframe tbody tr th {\n",
       "        vertical-align: top;\n",
       "    }\n",
       "\n",
       "    .dataframe thead th {\n",
       "        text-align: right;\n",
       "    }\n",
       "</style>\n",
       "<table border=\"1\" class=\"dataframe\">\n",
       "  <thead>\n",
       "    <tr style=\"text-align: right;\">\n",
       "      <th></th>\n",
       "      <th>Gss year for this respondent</th>\n",
       "      <th>Denied raise without reason at work</th>\n",
       "      <th>Promotions are handled fairly</th>\n",
       "      <th>A woman won't get a job or promotion</th>\n",
       "      <th>A man won't get a job or promotion</th>\n",
       "      <th>For or against preferential hiring of women</th>\n",
       "      <th>Favor preferences in hiring blacks</th>\n",
       "      <th>Sex makes your promotion different</th>\n",
       "      <th>Whites hurt by aff. action</th>\n",
       "      <th>Respondent id number</th>\n",
       "      <th>Ballot used for interview</th>\n",
       "    </tr>\n",
       "  </thead>\n",
       "  <tbody>\n",
       "    <tr>\n",
       "      <th>0</th>\n",
       "      <td>2014</td>\n",
       "      <td>Not applicable</td>\n",
       "      <td>Somewhat true</td>\n",
       "      <td>Not applicable</td>\n",
       "      <td>Not applicable</td>\n",
       "      <td>Not applicable</td>\n",
       "      <td>Not applicable</td>\n",
       "      <td>Not applicable</td>\n",
       "      <td>Very likely</td>\n",
       "      <td>1.0</td>\n",
       "      <td>Ballot c</td>\n",
       "    </tr>\n",
       "    <tr>\n",
       "      <th>1</th>\n",
       "      <td>2014</td>\n",
       "      <td>Not applicable</td>\n",
       "      <td>Somewhat true</td>\n",
       "      <td>Not applicable</td>\n",
       "      <td>Not applicable</td>\n",
       "      <td>Not applicable</td>\n",
       "      <td>Not applicable</td>\n",
       "      <td>Not applicable</td>\n",
       "      <td>Not very likely</td>\n",
       "      <td>2.0</td>\n",
       "      <td>Ballot c</td>\n",
       "    </tr>\n",
       "    <tr>\n",
       "      <th>2</th>\n",
       "      <td>2014</td>\n",
       "      <td>Not applicable</td>\n",
       "      <td>Not applicable</td>\n",
       "      <td>Very unlikely</td>\n",
       "      <td>Not applicable</td>\n",
       "      <td>Not applicable</td>\n",
       "      <td>Not applicable</td>\n",
       "      <td>Not applicable</td>\n",
       "      <td>Somewhat likely</td>\n",
       "      <td>3.0</td>\n",
       "      <td>Ballot a</td>\n",
       "    </tr>\n",
       "    <tr>\n",
       "      <th>3</th>\n",
       "      <td>2014</td>\n",
       "      <td>Not applicable</td>\n",
       "      <td>Not too true</td>\n",
       "      <td>Somewhat likely</td>\n",
       "      <td>Not applicable</td>\n",
       "      <td>Not applicable</td>\n",
       "      <td>Not applicable</td>\n",
       "      <td>Not applicable</td>\n",
       "      <td>Not applicable</td>\n",
       "      <td>4.0</td>\n",
       "      <td>Ballot b</td>\n",
       "    </tr>\n",
       "    <tr>\n",
       "      <th>4</th>\n",
       "      <td>2014</td>\n",
       "      <td>Not applicable</td>\n",
       "      <td>Not applicable</td>\n",
       "      <td>Not applicable</td>\n",
       "      <td>Not applicable</td>\n",
       "      <td>Not applicable</td>\n",
       "      <td>Not applicable</td>\n",
       "      <td>Not applicable</td>\n",
       "      <td>Somewhat likely</td>\n",
       "      <td>5.0</td>\n",
       "      <td>Ballot c</td>\n",
       "    </tr>\n",
       "  </tbody>\n",
       "</table>\n",
       "</div>"
      ],
      "text/plain": [
       "  Gss year for this respondent                         \\\n",
       "0                                               2014    \n",
       "1                                               2014    \n",
       "2                                               2014    \n",
       "3                                               2014    \n",
       "4                                               2014    \n",
       "\n",
       "  Denied raise without reason at work Promotions are handled fairly  \\\n",
       "0                      Not applicable                 Somewhat true   \n",
       "1                      Not applicable                 Somewhat true   \n",
       "2                      Not applicable                Not applicable   \n",
       "3                      Not applicable                  Not too true   \n",
       "4                      Not applicable                Not applicable   \n",
       "\n",
       "  A woman won't get a job or promotion               \\\n",
       "0                                    Not applicable   \n",
       "1                                    Not applicable   \n",
       "2                                     Very unlikely   \n",
       "3                                   Somewhat likely   \n",
       "4                                    Not applicable   \n",
       "\n",
       "  A man won't get a job or promotion    \\\n",
       "0                       Not applicable   \n",
       "1                       Not applicable   \n",
       "2                       Not applicable   \n",
       "3                       Not applicable   \n",
       "4                       Not applicable   \n",
       "\n",
       "  For or against preferential hiring of women        \\\n",
       "0                                    Not applicable   \n",
       "1                                    Not applicable   \n",
       "2                                    Not applicable   \n",
       "3                                    Not applicable   \n",
       "4                                    Not applicable   \n",
       "\n",
       "  Favor preferences in hiring blacks Sex makes your promotion different  \\\n",
       "0                     Not applicable                     Not applicable   \n",
       "1                     Not applicable                     Not applicable   \n",
       "2                     Not applicable                     Not applicable   \n",
       "3                     Not applicable                     Not applicable   \n",
       "4                     Not applicable                     Not applicable   \n",
       "\n",
       "  Whites hurt by aff. action  Respondent id number Ballot used for interview  \n",
       "0                Very likely                   1.0                  Ballot c  \n",
       "1            Not very likely                   2.0                  Ballot c  \n",
       "2            Somewhat likely                   3.0                  Ballot a  \n",
       "3             Not applicable                   4.0                  Ballot b  \n",
       "4            Somewhat likely                   5.0                  Ballot c  "
      ]
     },
     "execution_count": 2,
     "metadata": {},
     "output_type": "execute_result"
    }
   ],
   "source": [
    "# load your data set here\n",
    "gss = pd.read_csv(\"Women_and_Workplace/GSS/Data-Table-Women.csv\")\n",
    "gss.head()"
   ]
  },
  {
   "cell_type": "markdown",
   "metadata": {},
   "source": [
    "### 3. Turn people  into vectors\n",
    "I know, it sounds cruel. We're trying to group people, but computers can only group vectors, so there we are. \n",
    "\n",
    "Translating the spreadsheet you downloaded from GSS Explorer into vectors is a multistep process. Generally, each row of the spreadsheet is one person, and each column is one qeustion. \n",
    "\n",
    "- First, we need to throw away any extra rows and columns: headers, questions with no data, etc.\n",
    "- Many GSS questions already have numerical answers. These usually don't require any work.\n",
    "- But you'll need to turn categorical variables into numbers.\n",
    "\n",
    "Basically, you have to remove or convert every value that isn't a number. Because this is survey data, we can turn most questions into an integer scale. The cleanup might use functions like this:"
   ]
  },
  {
   "cell_type": "code",
   "execution_count": 3,
   "metadata": {},
   "outputs": [],
   "source": [
    "# drop the last two rows, which are just notes and do not contain data\n",
    "gss = gss.iloc[0:-2,:]"
   ]
  },
  {
   "cell_type": "code",
   "execution_count": 12,
   "metadata": {},
   "outputs": [],
   "source": [
    "# Here's a bunch of cleanup code. It probably won't be quite right for your data.\n",
    "# The goal is to convert all values to small integers, to make them easy to plot with colors below.\n",
    "\n",
    "# First, replace all of the \"Not Applicable\" values with None\n",
    "gss = gss.replace({'Not applicable' : None, \n",
    "                   'No answer' : None, \n",
    "                   'Don\\'t know' : None,\n",
    "                   'Dont know' : None})\n",
    "\n",
    "# Manually code likert scales \n",
    "gss = gss.replace({'Strongly disagree':-2, 'Disagree':-1, 'Neither agree nor disagree':0, 'Agree':1, 'Strongly agree':2})\n",
    "gss =  gss.replace({'Very likely':2, 'Somewhat likely':1, 'Dont know':0, 'No answer':0, 'Somewhat unlikely':-1, 'Very unlikely':-2})\n",
    "gss =  gss.replace({'Very likely':2, 'Somewhat likely':1, 'Dont know':0, 'No answer':0, 'Not very likely':-1, 'Somewhat unlikely':-1, 'Very unlikely':-2})\n",
    "gss =  gss.replace({'For': 1, 'Against':-1, 'Strongly against': -2, 'Strongly for':2})\n",
    "gss =  gss.replace({'Somewhat true': 1, 'Not too true':-1, 'Not at all true': -2, 'Very true':2})\n",
    "\n",
    "# yes/no -> 1/-1\n",
    "gss = gss.replace({'Yes':1, 'No':-1})\n",
    "\n",
    "# Some frequency scales should have numeric coding too\n",
    "gss = gss.replace({'Not at all in the past year' : 0, \n",
    "            'Once in the past year' : 1,\n",
    "            'At least 2 or 3 times in the past year' : 2, \n",
    "            'Once a month' : 3,\n",
    "            'Once a week' : 4,\n",
    "            'More than once a week':5}) \n",
    "\n",
    "gss = gss.replace({ 'Never or almost never' : 0, \n",
    "                    'Once in a while' : 1,\n",
    "                    'Some days' : 2, \n",
    "                    'Most days' : 3,\n",
    "                    'Every day' : 4,\n",
    "                    'Many times a day' : 5}) \n",
    "\n",
    "# Drop some columns that don't contain useful information\n",
    "gss = gss.drop(['Respondent id number',\n",
    "                'Ballot used for interview'], axis=1)\n",
    "\n",
    "# Turn invalid numeric entries into zeros\n",
    "gss = gss.replace({np.nan:0.0})"
   ]
  },
  {
   "cell_type": "markdown",
   "metadata": {},
   "source": [
    "### 4. Plot those vectors!\n",
    "For this assignment, we'll use the PCA projection algorithm to make 2D (or 3D!) pictures of the set of vectors. Once you have the vectors, it should be easy to make a PCA plot using the steps we followed in class.\n",
    "    "
   ]
  },
  {
   "cell_type": "code",
   "execution_count": 13,
   "metadata": {},
   "outputs": [
    {
     "data": {
      "image/png": "[encoded data removed]",
      "text/plain": [
       "<Figure size 432x288 with 1 Axes>"
      ]
     },
     "metadata": {},
     "output_type": "display_data"
    }
   ],
   "source": [
    "# make a PCA plot here\n",
    "\n",
    "from sklearn.decomposition import PCA\n",
    "model = PCA(n_components=2)\n",
    "out = model.fit_transform(gss.iloc[:,2:])\n",
    "plt.scatter(out[:, 0], out[:, 1])\n",
    "plt.show()\n",
    "\n"
   ]
  },
  {
   "cell_type": "markdown",
   "metadata": {},
   "source": [
    "### 5. Add color to help interpretation\n",
    "Congratulations, you have a picture of a blob of dots. Hopefully, that blob has some structure representing clusters of similar people. To understand what the plot is telling us, it really helps to take one of the original variables and use it to assign colors to the points. \n",
    "\n",
    "So: pick one of the questions that you think will separate people into natural groups. Use it to set the color of the dots in your scatterplot. By repeating this with different questions, or combining questions (like two binary questions giving rise to a four color scheme) you should be able to figure out what the structure of the clusters represents. \n"
   ]
  },
  {
   "cell_type": "code",
   "execution_count": 14,
   "metadata": {},
   "outputs": [],
   "source": [
    "# map integer columns to colors\n",
    "def col2colors(colvals):\n",
    "    # gray for zero, then a rainbow.\n",
    "    # This is set up so yes = 1 = red and no = -1 = indigo\n",
    "    my_colors = ['gray', 'red','orange','yellow','lightgreen','cyan','blue','indigo']\n",
    "    \n",
    "    # We may have integers higher than len(my_colors) or less than zero\n",
    "    # So use the mod operator (%) to make values \"wrap around\" when they go off the end of the list\n",
    "    column_ints = colvals.astype(int) % len(my_colors)\n",
    "    \n",
    "    # map each index to the corresponding color\n",
    "    return column_ints.apply(lambda x: my_colors[x])"
   ]
  },
  {
   "cell_type": "code",
   "execution_count": 15,
   "metadata": {},
   "outputs": [],
   "source": [
    "# Make a plot using colors from a particular column\n",
    "def plot_gss_column(colname):\n",
    "    plt.scatter(out[:, 0], out[:, 1], c=col2colors(gss[colname]))\n",
    "    plt.title(str(colname))\n",
    "    \n",
    "# Make another plot using colors from another column\n",
    "\n",
    "# ... repeat and see if you can figure out what each axis means"
   ]
  },
  {
   "cell_type": "code",
   "execution_count": 16,
   "metadata": {},
   "outputs": [
    {
     "data": {
      "image/png": "[encoded data removed]",
      "text/plain": [
       "<Figure size 432x288 with 1 Axes>"
      ]
     },
     "metadata": {},
     "output_type": "display_data"
    }
   ],
   "source": [
    "plot_gss_column('Whites hurt by aff. action')"
   ]
  },
  {
   "cell_type": "markdown",
   "metadata": {},
   "source": [
    "### 6. Tell us what it means?\n",
    "What did you learn from this exercise? Did you find the standard left-right divide? Or urban-rural? Early adopters vs. luddites? People with vs. without children? \n",
    "\n",
    "What did you learn? What could end up in a story? \n"
   ]
  }
 ],
 "metadata": {
  "kernelspec": {
   "display_name": "Python 3",
   "language": "python",
   "name": "python3"
  },
  "language_info": {
   "codemirror_mode": {
    "name": "ipython",
    "version": 3
   },
   "file_extension": ".py",
   "mimetype": "text/x-python",
   "name": "python",
   "nbconvert_exporter": "python",
   "pygments_lexer": "ipython3",
   "version": "3.6.4"
  }
 },
 "nbformat": 4,
 "nbformat_minor": 2
}
